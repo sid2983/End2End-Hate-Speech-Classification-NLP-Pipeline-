{
 "cells": [
  {
   "cell_type": "code",
   "execution_count": 1,
   "metadata": {},
   "outputs": [
    {
     "name": "stderr",
     "output_type": "stream",
     "text": [
      "/home/ubuntu/dl/lib/python3.10/site-packages/tqdm/auto.py:21: TqdmWarning: IProgress not found. Please update jupyter and ipywidgets. See https://ipywidgets.readthedocs.io/en/stable/user_install.html\n",
      "  from .autonotebook import tqdm as notebook_tqdm\n",
      "2024-10-02 07:40:40.295073: E external/local_xla/xla/stream_executor/cuda/cuda_fft.cc:485] Unable to register cuFFT factory: Attempting to register factory for plugin cuFFT when one has already been registered\n",
      "2024-10-02 07:40:40.311878: E external/local_xla/xla/stream_executor/cuda/cuda_dnn.cc:8454] Unable to register cuDNN factory: Attempting to register factory for plugin cuDNN when one has already been registered\n",
      "2024-10-02 07:40:40.316879: E external/local_xla/xla/stream_executor/cuda/cuda_blas.cc:1452] Unable to register cuBLAS factory: Attempting to register factory for plugin cuBLAS when one has already been registered\n",
      "2024-10-02 07:40:40.330257: I tensorflow/core/platform/cpu_feature_guard.cc:210] This TensorFlow binary is optimized to use available CPU instructions in performance-critical operations.\n",
      "To enable the following instructions: AVX2 FMA, in other operations, rebuild TensorFlow with the appropriate compiler flags.\n",
      "2024-10-02 07:40:41.149798: W tensorflow/compiler/tf2tensorrt/utils/py_utils.cc:38] TF-TRT Warning: Could not find TensorRT\n"
     ]
    }
   ],
   "source": [
    "import numpy as np\n",
    "import matplotlib.pyplot as plt\n",
    "import pandas as pd\n",
    "import seaborn as sns\n",
    "from pprint import pprint\n",
    "import re\n",
    "import emoji\n",
    "import os\n",
    "import sys\n",
    "import string\n",
    "\n",
    "from sklearn.model_selection import train_test_split\n",
    "from transformers import RobertaTokenizer, TFRobertaForSequenceClassification\n",
    "from datasets import Dataset\n",
    "\n"
   ]
  },
  {
   "cell_type": "code",
   "execution_count": 2,
   "metadata": {},
   "outputs": [
    {
     "name": "stdout",
     "output_type": "stream",
     "text": [
      "tf.Tensor(1380.561, shape=(), dtype=float32)\n",
      "[PhysicalDevice(name='/physical_device:GPU:0', device_type='GPU')]\n"
     ]
    },
    {
     "name": "stderr",
     "output_type": "stream",
     "text": [
      "WARNING: All log messages before absl::InitializeLog() is called are written to STDERR\n",
      "I0000 00:00:1727854878.420408    2580 cuda_executor.cc:1015] successful NUMA node read from SysFS had negative value (-1), but there must be at least one NUMA node, so returning NUMA node zero. See more at https://github.com/torvalds/linux/blob/v6.0/Documentation/ABI/testing/sysfs-bus-pci#L344-L355\n",
      "I0000 00:00:1727854878.466467    2580 cuda_executor.cc:1015] successful NUMA node read from SysFS had negative value (-1), but there must be at least one NUMA node, so returning NUMA node zero. See more at https://github.com/torvalds/linux/blob/v6.0/Documentation/ABI/testing/sysfs-bus-pci#L344-L355\n",
      "I0000 00:00:1727854878.466752    2580 cuda_executor.cc:1015] successful NUMA node read from SysFS had negative value (-1), but there must be at least one NUMA node, so returning NUMA node zero. See more at https://github.com/torvalds/linux/blob/v6.0/Documentation/ABI/testing/sysfs-bus-pci#L344-L355\n",
      "I0000 00:00:1727854878.470217    2580 cuda_executor.cc:1015] successful NUMA node read from SysFS had negative value (-1), but there must be at least one NUMA node, so returning NUMA node zero. See more at https://github.com/torvalds/linux/blob/v6.0/Documentation/ABI/testing/sysfs-bus-pci#L344-L355\n",
      "I0000 00:00:1727854878.470482    2580 cuda_executor.cc:1015] successful NUMA node read from SysFS had negative value (-1), but there must be at least one NUMA node, so returning NUMA node zero. See more at https://github.com/torvalds/linux/blob/v6.0/Documentation/ABI/testing/sysfs-bus-pci#L344-L355\n",
      "I0000 00:00:1727854878.470702    2580 cuda_executor.cc:1015] successful NUMA node read from SysFS had negative value (-1), but there must be at least one NUMA node, so returning NUMA node zero. See more at https://github.com/torvalds/linux/blob/v6.0/Documentation/ABI/testing/sysfs-bus-pci#L344-L355\n",
      "I0000 00:00:1727854878.555882    2580 cuda_executor.cc:1015] successful NUMA node read from SysFS had negative value (-1), but there must be at least one NUMA node, so returning NUMA node zero. See more at https://github.com/torvalds/linux/blob/v6.0/Documentation/ABI/testing/sysfs-bus-pci#L344-L355\n",
      "I0000 00:00:1727854878.556138    2580 cuda_executor.cc:1015] successful NUMA node read from SysFS had negative value (-1), but there must be at least one NUMA node, so returning NUMA node zero. See more at https://github.com/torvalds/linux/blob/v6.0/Documentation/ABI/testing/sysfs-bus-pci#L344-L355\n",
      "I0000 00:00:1727854878.556383    2580 cuda_executor.cc:1015] successful NUMA node read from SysFS had negative value (-1), but there must be at least one NUMA node, so returning NUMA node zero. See more at https://github.com/torvalds/linux/blob/v6.0/Documentation/ABI/testing/sysfs-bus-pci#L344-L355\n",
      "2024-10-02 07:41:18.556551: I tensorflow/core/common_runtime/gpu/gpu_device.cc:2021] Created device /job:localhost/replica:0/task:0/device:GPU:0 with 46873 MB memory:  -> device: 0, name: NVIDIA RTX A6000, pci bus id: 0000:00:06.0, compute capability: 8.6\n"
     ]
    }
   ],
   "source": [
    "\n",
    "import tensorflow as tf\n",
    "print(tf.reduce_sum(tf.random.normal([1000, 1000])))\n",
    "print(tf.config.list_physical_devices('GPU'))"
   ]
  },
  {
   "cell_type": "code",
   "execution_count": 3,
   "metadata": {},
   "outputs": [
    {
     "name": "stdout",
     "output_type": "stream",
     "text": [
      "    label                                              tweet\n",
      "0       0   @user when a father is dysfunctional and is s...\n",
      "1       0  @user @user thanks for #lyft credit i can't us...\n",
      "2       0                                bihday your majesty\n",
      "3       0  #model   i love u take with u all the time in ...\n",
      "4       0             factsguide: society now    #motivation\n",
      "5       0  [2/2] huge fan fare and big talking before the...\n",
      "6       0   @user camping tomorrow @user @user @user @use...\n",
      "7       0  the next school year is the year for exams.ð...\n",
      "8       0  we won!!! love the land!!! #allin #cavs #champ...\n",
      "9       0   @user @user welcome here !  i'm   it's so #gr...\n",
      "10      0   â #ireland consumer price index (mom) climb...\n",
      "11      0  we are so selfish. #orlando #standwithorlando ...\n",
      "12      0  i get to see my daddy today!!   #80days #getti...\n",
      "13      1  @user #cnn calls #michigan middle school 'buil...\n",
      "14      1  no comment!  in #australia   #opkillingbay #se...\n",
      "15      0  ouch...junior is angryð#got7 #junior #yugyo...\n",
      "16      0  i am thankful for having a paner. #thankful #p...\n",
      "17      1                             retweet if you agree! \n",
      "18      0  its #friday! ð smiles all around via ig use...\n",
      "19      0  as we all know, essential oils are not made of...\n"
     ]
    }
   ],
   "source": [
    "df = pd.read_csv('data.csv')\n",
    "pprint(df.head(20))"
   ]
  },
  {
   "cell_type": "code",
   "execution_count": 4,
   "metadata": {},
   "outputs": [
    {
     "name": "stdout",
     "output_type": "stream",
     "text": [
      "<class 'pandas.core.frame.DataFrame'>\n",
      "RangeIndex: 56745 entries, 0 to 56744\n",
      "Data columns (total 2 columns):\n",
      " #   Column  Non-Null Count  Dtype \n",
      "---  ------  --------------  ----- \n",
      " 0   label   56745 non-null  int64 \n",
      " 1   tweet   56745 non-null  object\n",
      "dtypes: int64(1), object(1)\n",
      "memory usage: 886.8+ KB\n"
     ]
    }
   ],
   "source": [
    "df.info()"
   ]
  },
  {
   "cell_type": "code",
   "execution_count": 5,
   "metadata": {},
   "outputs": [
    {
     "name": "stdout",
     "output_type": "stream",
     "text": [
      "0  :   @user when a father is dysfunctional and is so selfish he drags his kids into his dysfunction.   #run\n",
      "0  :  @user @user thanks for #lyft credit i can't use cause they don't offer wheelchair vans in pdx.    #disapointed #getthanked\n",
      "0  :    bihday your majesty\n",
      "0  :  #model   i love u take with u all the time in urð±!!! ðððð",
      "ð¦ð¦ð¦  \n",
      "0  :   factsguide: society now    #motivation\n",
      "0  :  [2/2] huge fan fare and big talking before they leave. chaos and pay disputes when they get there. #allshowandnogo  \n",
      "0  :   @user camping tomorrow @user @user @user @user @user @user @user dannyâ¦\n",
      "0  :  the next school year is the year for exams.ð¯ can't think about that ð­ #school #exams   #hate #imagine #actorslife #revolutionschool #girl\n",
      "0  :  we won!!! love the land!!! #allin #cavs #champions #cleveland #clevelandcavaliers  â¦ \n",
      "0  :   @user @user welcome here !  i'm   it's so #gr8 ! \n",
      "0  :   â #ireland consumer price index (mom) climbed from previous 0.2% to 0.5% in may   #blog #silver #gold #forex\n",
      "0  :  we are so selfish. #orlando #standwithorlando #pulseshooting #orlandoshooting #biggerproblems #selfish #heabreaking   #values #love #\n",
      "0  :  i get to see my daddy today!!   #80days #gettingfed\n",
      "1  :  @user #cnn calls #michigan middle school 'build the wall' chant '' #tcot  \n",
      "1  :  no comment!  in #australia   #opkillingbay #seashepherd #helpcovedolphins #thecove  #helpcovedolphins\n",
      "0  :  ouch...junior is angryð#got7 #junior #yugyoem   #omg \n",
      "0  :  i am thankful for having a paner. #thankful #positive     \n",
      "1  :  retweet if you agree! \n",
      "0  :  its #friday! ð smiles all around via ig user: @user #cookies make people   \n",
      "0  :  as we all know, essential oils are not made of chemicals. \n"
     ]
    }
   ],
   "source": [
    "for i in range(20):\n",
    "    print(df['label'][i],\" : \",df['tweet'][i])"
   ]
  },
  {
   "cell_type": "markdown",
   "metadata": {},
   "source": [
    "### Preprocessing"
   ]
  },
  {
   "cell_type": "code",
   "execution_count": 6,
   "metadata": {},
   "outputs": [],
   "source": [
    "def clean_text(text):\n",
    "    text = text.lower()\n",
    "\n",
    "    #demojize the text\n",
    "    text = emoji.demojize(text)\n",
    "\n",
    "    # Remove user mentions (@username)\n",
    "    text = re.sub(r'@\\w+', '', text)\n",
    "\n",
    "    # Remove URLs\n",
    "    text = re.sub(r'https?://\\S+|www\\.\\S+', '', text)\n",
    "\n",
    "    # Remove HTML tags\n",
    "    text = re.sub(r'<.*?>', '', text)\n",
    "\n",
    "    # Remove special characters, punctuation, and numbers\n",
    "    text = re.sub(r'[^\\w\\s,\\.!?]', '', text)\n",
    "    # Remove hashtags but keep the words\n",
    "    text = re.sub(r'#', '', text)\n",
    "\n",
    "    # Remove emojis or replace them with a placeholder (optional)\n",
    "    text = re.sub(r'[^\\x00-\\x7F]+', '', text)  # Keep ASCII characters only\n",
    "\n",
    "    # Remove extra spaces\n",
    "    text = re.sub(r'\\s+', ' ', text).strip()\n",
    "\n",
    "    return text\n",
    "\n",
    "df['cleaned_tweet'] = df['tweet'].apply(clean_text)\n"
   ]
  },
  {
   "cell_type": "code",
   "execution_count": 7,
   "metadata": {},
   "outputs": [
    {
     "name": "stdout",
     "output_type": "stream",
     "text": [
      "1    :    kim k is alright but honestly so many niggas been in that id rather not.. and miley got unfollowed that bitch is just strange.               :--------------------   Kim K is alright but honestly so many niggas been in that I'd rather not.. And Miley got unfollowed that bitch is just strange.\n",
      "1    :    rt the stars wink knowingly and smile at each other when they see two lovers kissing on a secluded bridge on a balmy autumn nig8230               :--------------------   RT @BigJonBul: The stars wink knowingly and smile at each other when they see two lovers kissing on a secluded bridge on a balmy autumn nig&#8230;\n",
      "1    :    rt 8220 8220 my sister shittin on you hos once again wodeh bout dat action               :--------------------   RT @Sassymermaidxo: &#8220;@VSamone: &#8220;@ZvckSlvt3r704: My sister shittin on you hos once again \"@VSamone: wodeh bout dat action http://t.co/mDfLBr&#8230;\n",
      "1    :    those tell me about yourself lookin ass niggas ... ima crazy bitch thats all you need to know.               :--------------------   Those \"tell me about yourself \" lookin ass niggas ... Ima crazy bitch that's all you need to know.\n",
      "0    :    4 days ago ... to celebrate national iced tea day, starbucks and teavana are offering ... icedtea               :--------------------   4 days ago ... to celebrate #national iced tea #day, starbucks and teavana are offering  ...    #icedtea\n",
      "1    :    murda mook!!!!               :--------------------   Murda mook!!!!\n",
      "1    :    im not a lady, bc i have a voice, opinion and im not scared to speak my mind! wait.. isnt that amp against               :--------------------   i'm not a lady, bc i have a voice, opinion and i'm not scared to speak my mind! wait.. isn't that  &amp; againstâ¦ \n",
      "1    :    hey guys, apparently white and black people are even for that whole slavery thing, so thats nice. history               :--------------------   hey guys, apparently white and black people are even for that whole slavery thing, so that's nice.  #history \n",
      "1    :    sea shepherd suppoers are racist! antiracism seashepherd               :--------------------   sea shepherd suppoers are racist!   #antiracism #seashepherd  \n",
      "0    :    looking blue but feeling red again! nyklippt sara tack skellefte, sweden               :--------------------   looking blue but feeling red again! #nyklippt   #sara #tack @ skellefteÃ¥, sweden \n",
      "0    :    nice and good small restaurant in ubud bali ubud food restaurant bar travel relax               :--------------------   nice and good small restaurant in ubud #bali #ubud  #food #restaurant #bar   #travel #relaxâ¦ \n",
      "1    :    if you tell a dyke she looks just like a nigga is that a compliment? ive always wondered that               :--------------------   If you tell a dyke she looks just like a nigga is that a compliment? I've always wondered that\n",
      "0    :    modeling photoshoot this friday yay model me follow emo               :--------------------    @user modeling photoshoot this friday yay #model #me #follow #emo   \n",
      "0    :    setting up for the atlanta 2026 little miss natural pageant! adorable children               :--------------------   setting up for the atlanta 2026 little miss natural pageant!   #adorable #childrenâ¦ \n",
      "0    :    fathers day to all the wonderful dads out there               :--------------------     fathers day to all the wonderful dads out there ð»ð\n",
      "0    :    anyone recognize the late night bandit who took forks from a bike for his amp some of our bike station tools?               :--------------------    @user anyone recognize the late night bandit who took forks from a bike for his &amp; some of our bike station tools?   \n",
      "1    :    8220 if you got paid 2million dollars to eat a nugget of shit would u eat it?8221 smash that bitch               :--------------------   &#8220;@239rell: If you got paid 2million dollars to eat a nugget of shit would u eat it?&#8221; Smash that bitch\n",
      "0    :    cant the grey weather go vaporize somewhere? i cant go out to take photos in this! iwantsun nophoto               :--------------------   can't the grey weather go vaporize somewhere? i can't go out to take photos in this! #iwantsun #nophoto  \n",
      "0    :    ok dear friends i buy all that what i want costumes amp shisamp i can go on red track for oskar weekend htt               :--------------------    @user ok dear #friends  i buy all that what i want (costumes &amp; shis)&amp; i can go on red track for #oskar )   #weekend httâ¦\n",
      "0    :    yay! fantastic for edinburgh               :--------------------   @user @user yay! fantastic   for #edinburgh\n",
      "0    :    i am exciting. i_am positive affirmation               :--------------------   i am exciting. #i_am #positive #affirmation     \n",
      "1    :    rt pussy ass nigga               :--------------------   RT @duttyOGshake: \"pussy ass nigga\" http://t.co/G0KL3ZbTAo\n",
      "0    :    they are such a healess bunch... !               :--------------------   they are such a healess bunch... ! \n",
      "1    :    i noticed too. definitions of bullying, , and disabilities are trying to be changed so people dont hv to. htt               :--------------------   @user i noticed too. definitions  of #bullying, , and #disabilities are trying to be changed so people don't hv to. httâ¦\n",
      "0    :    lmfao my dress looked better then sum tc girls who aint even try smh but fuck it i aint even go               :--------------------   lmfao my dress looked better then sum tc girls who ain't even try smh but fuck it i ain't even go  \n",
      "0    :    by assessing a penalty, the just called their champion, dustin johnson, a liar. making a mockery of the game. disgusted usga               :--------------------   by assessing a penalty, the @user just called their champion, dustin johnson, a liar. making a mockery of the game. #disgusted #usga  \n",
      "0    :    time to sleep! first day of school ko bukas goodnight! pray muna! blessed firstdayofschool               :--------------------   time to sleep! first day of school ko bukas ðð¤ goodnight! pray muna! ðð»â¤ï¸ #blessed #firstdayofschool  \n",
      "1    :    rt my wifi stronger then half yall hoes relationships lol               :--------------------   RT @ScottyRackss: My Wifi stronger then half y'all hoes relationships lol\n",
      "1    :    i have to stop using bitch so often in my everyday conversations               :--------------------   I have to stop using \"bitch\" so often in my everyday conversations\n",
      "1    :    ok bitch damn i will im not even tierd my phone just dying               :--------------------   @_xpriceless_ ok bitch damn I will I'm not even tierd my phone just dying\n",
      "0    :    the reunion photoftheday me daphne               :--------------------   the reunion #photoftheday #me #daphne   \n",
      "0    :    and creative day yall remember to smile plus, its friday! credit maa altcopyrights illustration               :--------------------     and #creative day y'all - remember to #smile - plus, it's friday! :) [credit: maa altÃ©s illustration] \n",
      "0    :    someone explain why is being so moody               :--------------------   someone explain why @user  is being so moody  \n",
      "0    :    jea ig pretty memories! as expected, holiday depends on who u go with!! phuket               :--------------------   [jea ig] pretty memories~! as expected, holiday depends on who u go with~!!ð¯ð¯ #phuket    \n",
      "0    :    come see brooklyn amp host the parade on sat. 625! pride2016 htt               :--------------------    @user come see brooklyn @user &amp; @user host the @user parade on @user sat. 6/25! #pride2016 httâ¦\n",
      "0    :    another day in srilanka kandy sigiriya sigiriyarock tuktuk yourmysweet greatday               :--------------------   another day in #srilanka #kandy #sigiriya #sigiriyarock #tuktuk #yourmysweetâ¡ #greatday  â¦ \n",
      "0    :    not uncommon for that area policed that area for many years homicides,shootings, etc... very common.... unfounate               :--------------------   @user  not uncommon for that area  policed that area for many years homicides,shootings, etc... very common....   #unfounate\n",
      "1    :    rt if life hands you a hot potato try throwing it at two birds.               :--------------------   RT @WheelTod: If life hands you a hot potato try throwing it at two birds.\n",
      "0    :    some can confirm this goodmorning africa weekend smiles               :--------------------   some can confirm this ððð  #goodmorning #africa   #weekend #smilesâ¦ \n",
      "0    :    last day at work tomorrow for me self employed from monday scared redditchbizhour               :--------------------   last day at work tomorrow for me- self employed from monday #scared   #redditchbizhour\n",
      "0    :    pipe down kady love! acting like youre nails and a total badass, you mess with his head all the time this is karma! loveisland child               :--------------------   pipe down kady love! acting like you're nails and a total badass, you mess with his head all the time this is karma! #loveisland #child  \n",
      "1    :    hey nig               :--------------------   @SammySkinner hey nig\n",
      "0    :    be praying for our youth as they prepare for camp, june 1620. crossoveolife               :--------------------   be praying for our youth as they prepare for @user camp, june 16-20.  #crossoveolife   \n",
      "0    :    until the usa gets its gun laws under control nothing will change, and the last people they will listen to are us gays lovewins               :--------------------   until the usa gets it's gun laws under control nothing will change, and the last people they will listen to are us gays #lovewins   \n",
      "0    :    looking to feel more joy? join me and 20 speakers on the free summit unleashyourjoy               :--------------------   looking to feel more #joy? join me and 20 speakers on the free summit #unleashyourjoy    \n",
      "1    :    free birds. lol               :--------------------   Free birds. Lol\n",
      "0    :    selfie on the front lawn!               :--------------------   selfie on the front lawn!   \n",
      "1    :    bye, bye charlie strong.               :--------------------   Bye, Bye Charlie Strong.\n",
      "0    :    best time ever!!! saturday days pride columbus ohio fun funtimes               :--------------------   best time ever!!!â¤ðððð #saturday   days #pride #columbus #ohio #fun #funtimesâ¦ \n",
      "1    :    me and da gonna do a reboot of da jeffersons. only dis time he gonna be weezy and we married pre op trannies               :--------------------   Me and da @iamcolinquinn gonna do a reboot of da Jeffersons. Only dis time he gonna be Weezy and we married pre op trannies\n",
      "0    :    im getting my ps4 tomorrow cant wait ps4 gamer omg otaku yas               :--------------------   im getting my ps4 tomorrow ð±ðð±ððððð±ð±ð±ððððð±ðð±ð±ð±ð±ðððð cant wait #ps4 #gamer   #omg #otaku #yas\n",
      "0    :    electronic music from bogota colombia cedm edm dj fashion music               :--------------------   electronic music from #bogota #colombia  #cedm #edm #dj #fashion #music  \n",
      "1    :    rt 8220 small ass pants 1285148221bitch 128514128514128514               :--------------------   RT @_BeautifulKeezy: &#8220;@100046729: Small ass pants &#128514;&#8221;bitch &#128514;&#128514;&#128514;\n",
      "0    :    love my girls complaining while we are working out. fun funny workout exercises life               :--------------------   love my girls complaining while we are working out. #fun #funny #workout #exercises   #lifeâ¦ \n",
      "1    :    you pussy               :--------------------   @Zach_Thein you pussy\n",
      "0    :    wow a cheeky smile got me a chance to sit on these beauties today what an amazing day               :--------------------    @user wow ð a cheeky smile got me a chance to sit on these beauties today ððð what an amazing day @user   \n",
      "0    :    done my postal vote for the euref off to glastonbury tomorrow. having a couple of nights in a comfoable hotel before camping               :--------------------   done my postal vote for the #euref off to #glastonbury tomorrow. having a couple of nights in a comfoable hotel before camping  \n",
      "0    :    taz napping with his squirrel sleepyhead sleepy aww dog tocute               :--------------------   taz #napping with his #squirrel    #sleepyhead #sleepy #aww #dog #tocuteâ¦ \n",
      "0    :    first conce for an extremely excited 9 year old comcegloucesterjessglynnedaughter tooesrlylove               :--------------------   first conce for an extremely excited 9 year old @user #comce#gloucester#jessglynne#daughter #tooesrly#love\n",
      "1    :    rt fuck michigan too many wanna be thugs. if you ask me yall pussy. im out this bitch next year               :--------------------   RT @Fck_Witcho_Mans: Fuck Michigan too many wanna be thugs. If you ask me y'all pussy. I'm out this bitch next year\n",
      "0    :    its thursday, its sunny and my jam is on the radio.               :--------------------   it's thursday, it's sunny and my jam is on the radio.  ðâï¸ð§   â¦ \n",
      "1    :    8220 them wet 1280761281661281668221say trav see if they got them hoes in cali i will send you my money               :--------------------   &#8220;@T_FLYE: http://t.co/s0kAVO4D3E them Wet &#128076;&#128166;&#128166;&#8221;say trav see if they got them hoes in Cali I will send you my money\n",
      "1    :    i gassss on these niggas, i got gas for all these hoes               :--------------------   I gassss on these niggas, I got gas for all these hoes\n",
      "0    :    wishing you a fathersday from teamcirce have a great day amp more!               :--------------------   #wishing you a   #fathersday from #teamcirce have a #great day &amp; more!\n",
      "0    :    change your space change your outlook! newbeginnings letgo sayinggoodbye feelings breakupcoach movingon               :--------------------   change your space-- change your outlook! #newbeginnings #letgo #sayinggoodbye #feelings #breakupcoach #movingon   \n",
      "1    :    rt hell nahh. if a bitch had respect for her own damn body, she wouldnt wear that shit in public.               :--------------------   RT @TrueNovacane: @UFUCKIN_RIGHT hell nahh. If a bitch had respect for her own damn body, she wouldn't wear that shit in public.\n",
      "0    :    in addition you add an ad hominem attack with no basis in fact.               :--------------------   @user in addition you add an ad hominem attack with no basis in fact.   @user\n",
      "1    :    rt ok, i gotta cut this carl thomas album off b4 i call my ex amp say fuck u u ruthless bitch. lol               :--------------------   RT @JoeBudden: Ok, I gotta cut this Carl Thomas album off b4 I call my ex &amp; say fuck u u ruthless bitch. Lol\n",
      "0    :    just kpop dance choreographer bts cl               :--------------------   just kpop ðð»ðªð¥ #dance #choreographer   #bts #cl â¦ \n",
      "0    :    radical groups are slaughtering people and all we can do is battle over what were to call them, and talk about guns               :--------------------   @user radical groups are slaughtering people and all we can do is battle over what we're to call them, and talk about guns  \n",
      "1    :    even my moms knows i dont fuck with ghetto people               :--------------------   Even my moms knows I don't fuck with ghetto people\n",
      "0    :    model i love u take with u all the time in ur!!!               :--------------------   #model   i love u take with u all the time in urð±!!! ðððð",
      "ð¦ð¦ð¦  \n",
      "0    :    looking forward to seeing you father. sodality at albanpilgrimage               :--------------------   looking forward to seeing you father. sodality at #albanpilgrimage  \n",
      "0    :    you some type of special faggot if you bring chocolate swishers to a smoke session.               :--------------------   You some type of special faggot if you bring chocolate Swishers to a smoke session.\n",
      "0    :    oh, added how to revive from heat stroke to the video. hot               :--------------------   oh, @user added how to revive from heat stroke to the video. #hot    \n",
      "1    :    grant bitches more than a 14 year old white bitch               :--------------------   Grant bitches more than a 14 year old white bitch\n",
      "1    :    5 of us decided to drink everclear and go to a yankees game.. only two made it to their seat               :--------------------   @Mr_Ritchie_J 5 of us decided to drink Everclear and go to a Yankees game.. Only two made it to their seat\n",
      "0    :    12 days to go bbfotm fingers crossed               :--------------------   12 days to go #bbfotm @user @user   fingers crossed\n",
      "1    :    cant get no pussy to kirk franklin idc how long its been for ya               :--------------------   Can't get no pussy to Kirk Franklin idc how long it's been for ya\n",
      "0    :    here we go again people! multiple people shot at east flatbush playground via               :--------------------   here we go again people!   multiple people shot at east flatbush playground  via @user\n",
      "0    :    have my lover stop being angry at me visit us..gtgtgt lover friend astrologer love               :--------------------   have my lover stop being angry at me visit us..&gt;&gt;&gt;  #lover   #friend #astrologer #love \n",
      "0    :    so much stuff happening in florida! first orlando shooting and now disneygatorattack on a two year old kid               :--------------------    @user so much stuff happening in florida! first #orlando shooting and now #disneygatorattack on a two year old kidð¥ð  \n",
      "1    :    yellow in paris! fantastic effort from allezwiggo and vroomfroome..now just the last stage up for grabs gocav tdf12               :--------------------   @TeamSky yellow in paris! Fantastic effort from #AllezWiggo and #VroomFroome..now just the last stage up for grabs #GoCav #TDF12\"\n",
      "1    :    rt bitches is twerkin on camera while they kid watchin sponge bob cuh               :--------------------   RT @CuhCuhCuh: bitches is twerkin on camera while they kid watchin sponge bob cuh\n",
      "0    :    raft building at salford quays as pa of the gmw fun outdoors badge guides               :--------------------    @user raft building at salford quays as pa of the gmw fun outdoors badge #guides  @user \n",
      "0    :    we got official commitment from a hotel chain to be our test amp pilot paners! they really believe in our product! hotelma               :--------------------    @user we got official commitment from a hotel chain to be our test &amp; pilot paners! they really believe in our product!  #hotelmaâ¦\n",
      "0    :    everybodytalks odd that others had drawn the same conclusion, not terrorism and not hate. envy. not being accepted for who you are.               :--------------------   #everybodytalks odd that others had drawn the same conclusion, not terrorism and not hate. envy. not being accepted for who you are.  \n",
      "1    :    if you are out clubbing every weekend and leaving your child with your baby momma i dont wanna hear you bitch about child support. 1280569749               :--------------------   If you are out clubbing every weekend and leaving your child with your baby momma I don't wanna hear you bitch about child support. &#128056;&#9749;\n",
      "1    :    pussy.               :--------------------   @Eddie_Sativa87 pussy.\n",
      "1    :    nigger? lifelessons of white kid growing up in the 60s. bloggersblast respect               :--------------------   \"nigger?\" #lifelessons of white kid growing up in the 60's.  #bloggersblast #respect  \n",
      "0    :    i couldnt get had major depression and then found out it was a spiritual parasite. healing energy ener               :--------------------    @user i couldn't get  --- had major #depression-- and then found out it was a #spiritual #parasite. #healing #energy #enerâ¦\n",
      "1    :    rt instagram always be acting like a bitch bruh               :--------------------   RT @Killa_Rilluh: Instagram always be acting like a bitch bruh\n",
      "1    :    you gotta respect a bitch before she lets you put your entire arm in her vagina.               :--------------------   @ohVixen @iBaneXx You gotta respect a bitch before she let's you put your entire arm in her vagina.\n",
      "0    :    fun wedding at the english manor limelightnj               :--------------------   fun wedding at the english manor  #limelightnj   \n",
      "0    :    this is my super hero dad father daysi you dad kubang               :--------------------   #this is my super hero dad#   father days#i ðyou dad# @ kubangâ¦ \n",
      "1    :    rt that look after you just put a bitch in their place               :--------------------   RT @kingsleyyy: That look after you just put a bitch in their place http://t.co/GPND50I5Of\n",
      "1    :    rt weed louder than a darkskin bitch in the club               :--------------------   RT @LouieVRee: Weed louder than a Darkskin bitch in the club\n",
      "0    :    why listen incubus never hus! nowplaying sick little world nissan live set de               :--------------------   why listen incubus never hus! ðð #nowplaying #sick   #little #world - nissan #live #set de @user â« \n",
      "1    :    rt sometimes i turn my phone on loud to tweet just to hear the bird chirp. truestory teamiphone               :--------------------   RT @KxRxSxB: Sometimes I turn my phone on loud to tweet just to hear the bird chirp. #TrueStory #TeamiPhone\n",
      "0    :    ifidontgetmyfirstchoice ill huff and ill puff and ill tweet little, , grumpy faces and hashtag the crap outta it!!!               :--------------------   #ifidontgetmyfirstchoice i'll #huff and i'll #puff and i'll #tweet #little,  , #grumpy #faces and #hashtag the #crap #outta it!!!\n"
     ]
    }
   ],
   "source": [
    "# Take a random sample of 50 rows from the DataFrame\n",
    "sampled_df = df.sample(n=100, random_state=42)\n",
    "\n",
    "# Print the label, cleaned_tweet, and tweet for each sample\n",
    "for i in range(100):\n",
    "    print(sampled_df['label'].iloc[i], \"   :   \", sampled_df['cleaned_tweet'].iloc[i], \"              :--------------------  \", sampled_df['tweet'].iloc[i])"
   ]
  },
  {
   "cell_type": "code",
   "execution_count": 8,
   "metadata": {},
   "outputs": [],
   "source": [
    "texts = df['cleaned_tweet'].tolist()\n",
    "labels = df['label'].tolist()\n",
    "train_texts, val_texts, train_labels, val_labels = train_test_split(texts, labels, test_size=0.2, random_state=42)"
   ]
  },
  {
   "cell_type": "markdown",
   "metadata": {},
   "source": [
    "#### Tokenization"
   ]
  },
  {
   "cell_type": "code",
   "execution_count": 9,
   "metadata": {},
   "outputs": [
    {
     "name": "stderr",
     "output_type": "stream",
     "text": [
      "/home/ubuntu/dl/lib/python3.10/site-packages/transformers/tokenization_utils_base.py:1617: FutureWarning: `clean_up_tokenization_spaces` was not set. It will be set to `True` by default. This behavior will be deprecated in transformers v4.45, and will be then set to `False` by default. For more details check this issue: https://github.com/huggingface/transformers/issues/31884\n",
      "  warnings.warn(\n"
     ]
    }
   ],
   "source": [
    "tokenizer = RobertaTokenizer.from_pretrained('roberta-base')\n"
   ]
  },
  {
   "cell_type": "code",
   "execution_count": 10,
   "metadata": {},
   "outputs": [],
   "source": [
    "# Tokenize the texts\n",
    "\n",
    "AUTOTUNE = tf.data.experimental.AUTOTUNE\n",
    "\n",
    "def tokenize_data(texts, labels):\n",
    "    encodings = tokenizer(texts, truncation=True, padding=True, max_length=128, return_tensors='tf')\n",
    "    return encodings['input_ids'], encodings['attention_mask'], np.array(labels)\n",
    "\n",
    "train_input_ids, train_attention_masks, train_labels = tokenize_data(train_texts, train_labels)\n",
    "val_input_ids, val_attention_masks, val_labels = tokenize_data(val_texts, val_labels)"
   ]
  },
  {
   "cell_type": "markdown",
   "metadata": {},
   "source": [
    "#### TF Dataset Creation"
   ]
  },
  {
   "cell_type": "code",
   "execution_count": 11,
   "metadata": {},
   "outputs": [],
   "source": [
    "# Create TensorFlow Datasets\n",
    "train_dataset = tf.data.Dataset.from_tensor_slices(({'input_ids': train_input_ids, 'attention_mask': train_attention_masks}, train_labels))\n",
    "val_dataset = tf.data.Dataset.from_tensor_slices(({'input_ids': val_input_ids, 'attention_mask': val_attention_masks}, val_labels))"
   ]
  },
  {
   "cell_type": "markdown",
   "metadata": {},
   "source": [
    "#### Batch Creation"
   ]
  },
  {
   "cell_type": "code",
   "execution_count": 12,
   "metadata": {},
   "outputs": [],
   "source": [
    "# Define the data pipeline (no need to map tokenize_data again here)\n",
    "train_data = (train_dataset\n",
    "              .shuffle(buffer_size=1000)  # Shuffle the dataset with buffer size\n",
    "              .batch(16)  # Batch size for training\n",
    "              .prefetch(buffer_size=AUTOTUNE))  # Prefetch for efficient training\n",
    "\n",
    "val_data = (val_dataset\n",
    "            .batch(64)  # Batch size for validation (larger as it's faster for eval)\n",
    "            .prefetch(buffer_size=AUTOTUNE))\n"
   ]
  },
  {
   "cell_type": "markdown",
   "metadata": {},
   "source": [
    "#### Modelling"
   ]
  },
  {
   "cell_type": "code",
   "execution_count": 13,
   "metadata": {},
   "outputs": [
    {
     "name": "stderr",
     "output_type": "stream",
     "text": [
      "Some weights of the PyTorch model were not used when initializing the TF 2.0 model TFRobertaForSequenceClassification: ['roberta.embeddings.position_ids']\n",
      "- This IS expected if you are initializing TFRobertaForSequenceClassification from a PyTorch model trained on another task or with another architecture (e.g. initializing a TFBertForSequenceClassification model from a BertForPreTraining model).\n",
      "- This IS NOT expected if you are initializing TFRobertaForSequenceClassification from a PyTorch model that you expect to be exactly identical (e.g. initializing a TFBertForSequenceClassification model from a BertForSequenceClassification model).\n",
      "Some weights or buffers of the TF 2.0 model TFRobertaForSequenceClassification were not initialized from the PyTorch model and are newly initialized: ['classifier.dense.weight', 'classifier.dense.bias', 'classifier.out_proj.weight', 'classifier.out_proj.bias']\n",
      "You should probably TRAIN this model on a down-stream task to be able to use it for predictions and inference.\n"
     ]
    }
   ],
   "source": [
    "model = TFRobertaForSequenceClassification.from_pretrained('roberta-base', num_labels=2)\n"
   ]
  },
  {
   "cell_type": "code",
   "execution_count": 14,
   "metadata": {},
   "outputs": [],
   "source": [
    "optimizer = tf.keras.optimizers.Adam(learning_rate=2e-5, epsilon=1e-08)\n",
    "loss = tf.keras.losses.SparseCategoricalCrossentropy(from_logits=True)\n",
    "metric = tf.keras.metrics.SparseCategoricalAccuracy('accuracy')\n",
    "\n",
    "model.compile(optimizer=optimizer, loss=loss, metrics=[metric])\n"
   ]
  },
  {
   "cell_type": "code",
   "execution_count": 15,
   "metadata": {},
   "outputs": [],
   "source": [
    "tensorboard_callback = tf.keras.callbacks.TensorBoard(log_dir='./logs')\n",
    "checkpoint_callback = tf.keras.callbacks.ModelCheckpoint(filepath='./best_model', save_best_only=True, monitor='val_accuracy', mode='max')"
   ]
  },
  {
   "cell_type": "code",
   "execution_count": null,
   "metadata": {},
   "outputs": [
    {
     "name": "stdout",
     "output_type": "stream",
     "text": [
      "Epoch 1/3\n"
     ]
    },
    {
     "name": "stderr",
     "output_type": "stream",
     "text": [
      "WARNING: All log messages before absl::InitializeLog() is called are written to STDERR\n",
      "I0000 00:00:1727855015.363794    2729 service.cc:146] XLA service 0x7bd65db6fc00 initialized for platform CUDA (this does not guarantee that XLA will be used). Devices:\n",
      "I0000 00:00:1727855015.363829    2729 service.cc:154]   StreamExecutor device (0): NVIDIA RTX A6000, Compute Capability 8.6\n",
      "2024-10-02 07:43:35.370056: I tensorflow/compiler/mlir/tensorflow/utils/dump_mlir_util.cc:268] disabling MLIR crash reproducer, set env var `MLIR_CRASH_REPRODUCER_DIRECTORY` to enable.\n",
      "2024-10-02 07:43:35.385936: I external/local_xla/xla/stream_executor/cuda/cuda_dnn.cc:531] Loaded cuDNN version 8907\n",
      "I0000 00:00:1727855015.468972    2729 device_compiler.h:188] Compiled cluster using XLA!  This line is logged at most once for the lifetime of the process.\n"
     ]
    },
    {
     "name": "stdout",
     "output_type": "stream",
     "text": [
      "1843/2838 [==================>...........] - ETA: 1:40 - loss: 0.2295 - accuracy: 0.9093"
     ]
    }
   ],
   "source": [
    "history = model.fit(\n",
    "    train_data,\n",
    "    validation_data=val_data,\n",
    "    epochs=3,\n",
    "    callbacks=[tensorboard_callback, checkpoint_callback]\n",
    ")\n"
   ]
  },
  {
   "cell_type": "code",
   "execution_count": null,
   "metadata": {},
   "outputs": [],
   "source": [
    "eval_results = model.evaluate(val_dataset)\n",
    "print(f\"Evaluation results: {eval_results}\")\n"
   ]
  },
  {
   "cell_type": "code",
   "execution_count": null,
   "metadata": {},
   "outputs": [],
   "source": [
    "model.save_pretrained('./final_model')\n"
   ]
  }
 ],
 "metadata": {
  "kernelspec": {
   "display_name": "Python 3 (ipykernel)",
   "language": "python",
   "name": "python3"
  },
  "language_info": {
   "codemirror_mode": {
    "name": "ipython",
    "version": 3
   },
   "file_extension": ".py",
   "mimetype": "text/x-python",
   "name": "python",
   "nbconvert_exporter": "python",
   "pygments_lexer": "ipython3",
   "version": "3.10.12"
  }
 },
 "nbformat": 4,
 "nbformat_minor": 4
}
